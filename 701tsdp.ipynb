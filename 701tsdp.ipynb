{
 "cells": [
  {
   "cell_type": "markdown",
   "id": "2fc6a3a7",
   "metadata": {},
   "source": [
    "***GENERATED CODE FOR 701tsdp PIPELINE.***"
   ]
  },
  {
   "cell_type": "markdown",
   "id": "4a497563",
   "metadata": {},
   "source": [
    "***DON'T EDIT THIS CODE.***"
   ]
  },
  {
   "cell_type": "markdown",
   "id": "97ff65ac",
   "metadata": {},
   "source": [
    "***CONNECTOR FUNCTIONS TO READ DATA.***"
   ]
  },
  {
   "cell_type": "code",
   "execution_count": null,
   "id": "e2c08b1f",
   "metadata": {},
   "outputs": [],
   "source": [
    "import os\n",
    "import datetime\n",
    "import logging\n",
    "import warnings\n",
    "warnings.filterwarnings('ignore')\n",
    "logging.basicConfig(format='%(levelname)s:%(message)s', level=logging.INFO)\n",
    "\n",
    "\n",
    "class HDFSConnector:\n",
    "\n",
    "    def fetch(spark, config):\n",
    "        ################### INPUT HADOOP HOST PORT TO CONNECT WITH ###############################\n",
    "        hdfs_server = str(os.environ['HDFS_SERVER'])\n",
    "        hdfs_port = int(os.environ['HDFS_PORT'])\n",
    "        df = spark.read.options(header='true', inferschema='true').csv(\n",
    "            f\"hdfs://{hdfs_server}:{hdfs_port}{eval(config)['url']}\", header='true')\n",
    "        display(df.limit(2).toPandas())\n",
    "        return df\n",
    "\n",
    "    def put(df, spark, config):\n",
    "        return df.write.format('csv').options(header='true' if eval(config)[\"is_header\"] == \"Use Header Line\" else 'false',\n",
    "                                              delimiter=eval(config)[\"delimiter\"]).save((\"%s %s\") % (datetime.datetime.now().strftime(\"%Y-%m-%d %H.%M.%S\")+\"_\", eval(config)['url']))\n"
   ]
  },
  {
   "cell_type": "markdown",
   "id": "5b4e73f6",
   "metadata": {},
   "source": [
    "***OPERATION FUNCTIONS***"
   ]
  },
  {
   "cell_type": "code",
   "execution_count": null,
   "id": "dc205100",
   "metadata": {},
   "outputs": [],
   "source": [
    "import pyspark\n",
    "from dask.dataframe import from_pandas\n",
    "import json\n",
    "\n",
    "\n",
    "def DateTransform(df, functionsData, applyOn=[]):\n",
    "    import dask.dataframe as dd\n",
    "    import pandas as pd\n",
    "    import numpy as np\n",
    "\n",
    "    for functiondata in functionsData:\n",
    "        functiondata = functiondata\n",
    "\n",
    "    dfcp = df\n",
    "    dfcp1 = dfcp\n",
    "    resulttype = dfcp1.select_dtypes(include=[np.datetime64])\n",
    "    # print(\"----resulttype:\\n\",resulttype.head(10))\n",
    "    for existingdatecols in resulttype.columns:\n",
    "        print(\"--------existingdatecols-----\", existingdatecols)\n",
    "        dfcp[existingdatecols] = dfcp[existingdatecols].apply(\n",
    "            lambda x: x.replace(tzinfo=None))\n",
    "\n",
    "    Dateformat1 = 'YYYY-DD-MM'\n",
    "    Dateformat2 = 'YY/MM/DD'\n",
    "    Dateformat3 = 'DD/MM/YYYY'\n",
    "    Dateformat4 = 'M/D/YY'\n",
    "    NotDateFromat = [Dateformat1, Dateformat2, Dateformat3, Dateformat4]\n",
    "    # print(\"---------NotDateFromat-------\",NotDateFromat)\n",
    "    #print(\"-----dfcp head before-----\",dfcp.head(10))\n",
    "    if 'inputDateFormat' in functiondata:\n",
    "        coldetail = functiondata['column']\n",
    "        for col in coldetail:\n",
    "            colname = col['columnName']\n",
    "        inputFormat = str(functiondata['inputDateFormat'])\n",
    "        functiondata['outputDateFormat']\n",
    "        functiondata['newColumn']\n",
    "    if ('newColumnName' in functiondata):\n",
    "        if inputFormat in NotDateFromat:\n",
    "            print(\"-------New data column executing-------------\")\n",
    "            NewDateCol = functiondata['newColumnName']\n",
    "            dfcp = dfcp.compute()\n",
    "            dfcp[NewDateCol] = dfcp[colname].apply(\n",
    "                lambda x: pd.to_datetime(x, format='%d/%m/%Y', utc=False))\n",
    "            dfcp[NewDateCol] = dfcp[NewDateCol].apply(\n",
    "                lambda x: x.strftime(\"%Y-%m-%d\"))\n",
    "            dfcp[NewDateCol] = pd.to_datetime(dfcp[NewDateCol], utc=False)\n",
    "            dfcp = dd.from_pandas(dfcp, npartitions=2)\n",
    "            dfcp[NewDateCol] = dfcp[NewDateCol].apply(\n",
    "                lambda x: x.replace(tzinfo=None))\n",
    "    elif (('newColumnName' not in functiondata) and (inputFormat in NotDateFromat)):\n",
    "        dfcp = dfcp.compute()\n",
    "        dfcp[colname] = dfcp[colname].apply(\n",
    "            lambda x: pd.to_datetime(x, format='%d/%m/%Y'))\n",
    "        dfcp[colname] = dfcp[colname].apply(lambda x: x.strftime(\"%Y-%m-%d\"))\n",
    "        dfcp[colname] = pd.to_datetime(dfcp[colname], utc=False)\n",
    "        dfcp = dd.from_pandas(dfcp, npartitions=2)\n",
    "\n",
    "    return dfcp\n",
    "\n",
    "\n",
    "def runDataCleansing(sparkDf, spark, config):\n",
    "    configObj = json.loads(config)\n",
    "    sparkDf.persist(pyspark.StorageLevel.MEMORY_AND_DISK)\n",
    "    df = from_pandas((sparkDf.toPandas()), npartitions=5)\n",
    "    functionList = configObj['functionsApplied']\n",
    "    Data_Cleansing_Methods = {\"replaceBy\": replaceValues,\n",
    "                              \"formula\": calculateFormula,\n",
    "                              \"aggregate\": aggregation,\n",
    "                              \"converttostringtype\": changeToString,\n",
    "                              \"editname\": renameColumns}\n",
    "    for function in functionList:\n",
    "        function['functionName']\n",
    "        df = Data_Cleansing_Methods[function['functionName']](df, function['functionsData'],\n",
    "                                                              function['applyOn'])\n",
    "    sparkDf = spark.createDataFrame(df.compute())\n",
    "\n",
    "    display(sparkDf.limit(2).toPandas())\n",
    "    return sparkDf\n"
   ]
  },
  {
   "cell_type": "markdown",
   "id": "4b26c819",
   "metadata": {},
   "source": [
    "***CONNECTOR FUNCTIONS TO WRITE DATA.***"
   ]
  },
  {
   "cell_type": "code",
   "execution_count": null,
   "id": "18755e0b",
   "metadata": {},
   "outputs": [],
   "source": [
    "import datetime\n",
    "import requests\n",
    "import datetime\n",
    "import logging\n",
    "import warnings\n",
    "warnings.filterwarnings('ignore')\n",
    "logging.basicConfig(format='%(levelname)s:%(message)s', level=logging.INFO)\n",
    "\n",
    "\n",
    "class NumtraConnector:\n",
    "\n",
    "    def put(inStages, inStagesData, stageId, spark, config):\n",
    "        path = eval(config)['server_url']\n",
    "        baseType = eval(config)['baseType']\n",
    "        results_url = eval(config)['results_url']\n",
    "        server = eval(config)['server']\n",
    "        originalfile = eval(config)['orignalKey']\n",
    "        eval(config)['pathOnly']\n",
    "        filename = eval(config)['filename']\n",
    "        eval(config)['ser']\n",
    "        eval(config)['user']\n",
    "        eval(config)['password']\n",
    "        eval(config)['authSource']\n",
    "        eval(config)['user_id']\n",
    "        eval(config)['parent_id']\n",
    "        eval(config)['project_id']\n",
    "        time = str(int(datetime.datetime.now().timestamp()))\n",
    "\n",
    "        inStagesData[inStages[0]]\n",
    "\n",
    "        print(path)\n",
    "        print(baseType)\n",
    "        print(results_url)\n",
    "        print(server)\n",
    "        print(originalfile)\n",
    "        print(filename)\n",
    "\n",
    "        args = {\n",
    "            'url': path,\n",
    "            'baseType': baseType,\n",
    "            'originalfile': originalfile,\n",
    "            'filename': time + filename\n",
    "        }\n",
    "\n",
    "        response = requests.post(results_url, args)\n",
    "        return response\n"
   ]
  },
  {
   "cell_type": "markdown",
   "id": "334cc025",
   "metadata": {},
   "source": [
    "***READING DATAFRAME***"
   ]
  },
  {
   "cell_type": "code",
   "execution_count": null,
   "id": "84f72eb9",
   "metadata": {},
   "outputs": [],
   "source": [
    "############## CREATE SPARK SESSION ############################ ENTER YOUR SPARK MASTER IP AND PORT TO CONNECT TO SERVER ################\n",
    "from pyspark.sql import SparkSession\n",
    "spark = SparkSession.builder.master('local[1]').getOrCreate()\n",
    "#%run 701tsdpHooks.ipynb\n",
    "try:\n",
    "\t#sourcePreExecutionHook()\n",
    "\n",
    "\tofficemaxsalesdatatransfs = HDFSConnector.fetch(spark, \"{'url': '/FileStore/platform/uploadedSourceFiles/OfficeMAX_Sales_DataTransfS2.csv', 'filename': 'OfficeMAX_Sales_DataTransfS2.csv', 'delimiter': ',', 'file_type': 'Delimeted', 'dbfs_token': '', 'dbfs_domain': '', 'is_header': 'Use Header Line', 'server_url': '/numtraPlatform/NumtraPlatformV3/uploads/platform/', 'results_url': 'http://ml.numtra.com:44040/api/read/hdfs'}\")\n",
    "\n",
    "except Exception as ex: \n",
    "\tlogging.error(ex)\n",
    "#spark.stop()\n"
   ]
  },
  {
   "cell_type": "markdown",
   "id": "ff781a6b",
   "metadata": {},
   "source": [
    "***PERFORMING OPERATIONS***"
   ]
  },
  {
   "cell_type": "code",
   "execution_count": null,
   "id": "e9e367a8",
   "metadata": {},
   "outputs": [],
   "source": [
    "#%run 701tsdpHooks.ipynb\n",
    "try:\n",
    "\t#operationPreExecutionHook()\n",
    "\n",
    "datapreparation = runDataCleansing(officemaxsalesdatatransfs,spark,json.dumps( {\"url\": \"/FileStore/platform/uploadedSourceFiles/OfficeMAX_Sales_DataTransfS2.csv\", \"source_attributes\": {}, \"DataPrepFile\": \"/FileStore/platform/uploadedSourceFiles/OfficeMAX_Sales_DataTransfS2.csv\", \"data_source\": \"localfiles\", \"startListenerOnly\": 1, \"dateColumnNames\": [\"Order DateNew\"], \"FilePath\": \"/FileStore/platform/extra/659a2c2c2bc1b0f22e68d6ae1704603230/0part.csv\", \"requestRatio\": 0.0, \"totalRows\": 100, \"BasicStats\": {\"missingValues\": 0.0, \"numberOfColumns\": 13, \"numberOfRows\": 100, \"duplicateRowCount\": 0, \"stats\": [{\"column\": \"Order Date\", \"alias\": \"Order Date\", \"generated\": 0, \"type\": \"String\", \"max\": \"9/1/2015\", \"min\": \"1/2/2015\", \"mean\": \"\", \"missing\": 0.0, \"stddev\": \"\", \"outliers\": [], \"validation\": []}, {\"column\": \"Order DateNew\", \"alias\": \"Order DateNew\", \"generated\": 0, \"type\": \"date\", \"max\": \"2015211\", \"min\": \"201513\", \"mean\": \"\", \"missing\": 0.0, \"stddev\": \"\", \"outliers\": [], \"validation\": []}, {\"column\": \"State\", \"alias\": \"State\", \"generated\": 0, \"type\": \"String\", \"max\": \"Wisconsin\", \"min\": \"Arizona\", \"mean\": \"\", \"missing\": 0.0, \"stddev\": \"\", \"outliers\": [], \"validation\": []}, {\"column\": \"Postal Code\", \"alias\": \"Postal Code\", \"generated\": 0, \"type\": \"numeric\", \"max\": 98105, \"min\": 7036, \"mean\": 55145.18, \"missing\": 0.0, \"stddev\": 27139.45, \"outliers\": [], \"validation\": []}, {\"column\": \"Region\", \"alias\": \"Region\", \"generated\": 0, \"type\": \"String\", \"max\": \"West\", \"min\": \"Central\", \"mean\": \"\", \"missing\": 0.0, \"stddev\": \"\", \"outliers\": [], \"validation\": []}, {\"column\": \"Category\", \"alias\": \"Category\", \"generated\": 0, \"type\": \"String\", \"max\": \"Technology\", \"min\": \"Furniture\", \"mean\": \"\", \"missing\": 0.0, \"stddev\": \"\", \"outliers\": [], \"validation\": []}, {\"column\": \"Sub-Category\", \"alias\": \"Sub-Category\", \"generated\": 0, \"type\": \"String\", \"max\": \"Tables\", \"min\": \"Accessories\", \"mean\": \"\", \"missing\": 0.0, \"stddev\": \"\", \"outliers\": [], \"validation\": []}, {\"column\": \"Cost\", \"alias\": \"Cost\", \"generated\": 0, \"type\": \"real\", \"max\": 999.32, \"min\": 10.5, \"mean\": 498.1853, \"missing\": 0.0, \"stddev\": 317.37, \"outliers\": [], \"validation\": []}, {\"column\": \"Price\", \"alias\": \"Price\", \"generated\": 0, \"type\": \"real\", \"max\": 995.15, \"min\": 8.61, \"mean\": 541.3198, \"missing\": 0.0, \"stddev\": 281.42, \"outliers\": [], \"validation\": []}, {\"column\": \"Profit\", \"alias\": \"Profit\", \"generated\": 0, \"type\": \"real\", \"max\": 885.59, \"min\": -858.0, \"mean\": 43.1337, \"missing\": 0.0, \"stddev\": 437.01, \"outliers\": [], \"validation\": []}, {\"column\": \"Quantity\", \"alias\": \"Quantity\", \"generated\": 0, \"type\": \"numeric\", \"max\": 25, \"min\": 1, \"mean\": 11.4, \"missing\": 0.0, \"stddev\": 7.02, \"outliers\": [], \"validation\": []}, {\"column\": \"Sales\", \"alias\": \"Sales\", \"generated\": 0, \"type\": \"real\", \"max\": 24607.22089, \"min\": 34.44196991, \"mean\": 6421.0408812651, \"missing\": 0.0, \"stddev\": 5764.1, \"outliers\": [19903.0828, 21148.32874, 22225.49018, 22944.36283, 24607.22089], \"validation\": []}, {\"column\": \"OrderDateNew701\", \"alias\": \"OrderDateNew701\", \"generated\": 1, \"type\": \"date\", \"max\": \"2015211\", \"min\": \"201513\", \"mean\": \"\", \"missing\": 0.0, \"stddev\": \"\", \"outliers\": [], \"validation\": []}]}, \"predictionPowerScore\": [{\"Category\": 1.0, \"Cost\": 0.0, \"Order Date\": 0.0, \"Order DateNew\": 0.0, \"OrderDateNew701\": 0.0, \"Postal Code\": 0.0, \"Price\": 0.0, \"Profit\": 0.0, \"Quantity\": 0.0, \"Region\": 0.0, \"Sales\": 0.0, \"State\": 0.0, \"Sub-Category\": 1.0}, {\"Category\": 0.0, \"Cost\": 1.0, \"Order Date\": 0.0, \"Order DateNew\": 0.0, \"OrderDateNew701\": 0.0, \"Postal Code\": 0.0, \"Price\": 0.0, \"Profit\": 0.143531446, \"Quantity\": 0.0406832154, \"Region\": 0.0, \"Sales\": 0.0, \"State\": 0.0, \"Sub-Category\": 0.0}, {\"Category\": 0.0, \"Cost\": 0.0, \"Order Date\": 1.0, \"Order DateNew\": 0.8508649902, \"OrderDateNew701\": 0.8508649902, \"Postal Code\": 0.7183520599, \"Price\": 0.0, \"Profit\": 0.0, \"Quantity\": 0.0, \"Region\": 0.0, \"Sales\": 0.0, \"State\": 0.4860782788, \"Sub-Category\": 0.0}, {\"Category\": 0.0, \"Cost\": 0.0, \"Order Date\": 0.0, \"Order DateNew\": 1.0, \"OrderDateNew701\": 0.0, \"Postal Code\": 0.0, \"Price\": 0.0, \"Profit\": 0.0, \"Quantity\": 0.0, \"Region\": 0.0, \"Sales\": 0.0, \"State\": 0.0, \"Sub-Category\": 0.0}, {\"Category\": 0.0, \"Cost\": 0.0, \"Order Date\": 0.0, \"Order DateNew\": 0.0, \"OrderDateNew701\": 1.0, \"Postal Code\": 0.0, \"Price\": 0.0, \"Profit\": 0.0, \"Quantity\": 0.0, \"Region\": 0.0, \"Sales\": 0.0, \"State\": 0.0, \"Sub-Category\": 0.0}, {\"Category\": 0.0196733394, \"Cost\": 0.0, \"Order Date\": 0.213493684, \"Order DateNew\": 0.3303500786, \"OrderDateNew701\": 0.3303500786, \"Postal Code\": 1.0, \"Price\": 0.0, \"Profit\": 0.0, \"Quantity\": 0.0, \"Region\": 0.536748174, \"Sales\": 0.0, \"State\": 0.8471070767, \"Sub-Category\": 0.0}, {\"Category\": 0.0, \"Cost\": 0.0, \"Order Date\": 0.0, \"Order DateNew\": 0.0, \"OrderDateNew701\": 0.0, \"Postal Code\": 0.0, \"Price\": 1.0, \"Profit\": 0.0, \"Quantity\": 0.0, \"Region\": 0.0, \"Sales\": 0.0, \"State\": 0.0, \"Sub-Category\": 0.0}, {\"Category\": 0.0, \"Cost\": 0.1727944105, \"Order Date\": 0.0, \"Order DateNew\": 0.0, \"OrderDateNew701\": 0.0, \"Postal Code\": 0.0, \"Price\": 0.130395782, \"Profit\": 1.0, \"Quantity\": 0.0, \"Region\": 0.0, \"Sales\": 0.0, \"State\": 0.0, \"Sub-Category\": 0.0}, {\"Category\": 0.0, \"Cost\": 0.0, \"Order Date\": 0.0, \"Order DateNew\": 0.0, \"OrderDateNew701\": 0.0, \"Postal Code\": 0.0, \"Price\": 0.0, \"Profit\": 0.0, \"Quantity\": 1.0, \"Region\": 0.0, \"Sales\": 0.1416666667, \"State\": 0.0, \"Sub-Category\": 0.0}, {\"Category\": 0.0, \"Cost\": 0.0574046555, \"Order Date\": 0.4640860607, \"Order DateNew\": 0.4565061022, \"OrderDateNew701\": 0.4565061022, \"Postal Code\": 1.0, \"Price\": 0.0, \"Profit\": 0.1342494174, \"Quantity\": 0.0404109589, \"Region\": 1.0, \"Sales\": 0.0, \"State\": 0.9123341816, \"Sub-Category\": 0.0765987197}, {\"Category\": 0.0, \"Cost\": 0.0, \"Order Date\": 0.0, \"Order DateNew\": 0.0, \"OrderDateNew701\": 0.0, \"Postal Code\": 0.0, \"Price\": 0.0, \"Profit\": 0.0, \"Quantity\": 0.2559337768, \"Region\": 0.0, \"Sales\": 1.0, \"State\": 0.0, \"Sub-Category\": 0.0}, {\"Category\": 0.014354069, \"Cost\": 0.0, \"Order Date\": 0.5274062817, \"Order DateNew\": 0.5195542047, \"OrderDateNew701\": 0.5195542047, \"Postal Code\": 0.9219858156, \"Price\": 0.0, \"Profit\": 0.0306737589, \"Quantity\": 0.0229989868, \"Region\": 0.2439183748, \"Sales\": 0.0, \"State\": 1.0, \"Sub-Category\": 0.0090172239}, {\"Category\": 0.1158823529, \"Cost\": 0.0246541694, \"Order Date\": 0.0, \"Order DateNew\": 0.0, \"OrderDateNew701\": 0.0, \"Postal Code\": 0.0, \"Price\": 0.0, \"Profit\": 0.0, \"Quantity\": 0.0, \"Region\": 0.0, \"Sales\": 0.0, \"State\": 0.0, \"Sub-Category\": 1.0}], \"HasBasicStats\": 1, \"functionsApplied\": [{\"functionName\": \"transformDate\", \"applyOn\": [{\"columnName\": \"Order Date\", \"type\": \"String\", \"min\": \"1/2/2015\", \"max\": \"9/1/2015\", \"mean\": \"-\"}], \"functionsData\": [{\"column\": [{\"columnName\": \"Order Date\", \"type\": \"String\", \"min\": \"1/2/2015\", \"max\": \"9/1/2015\", \"mean\": \"-\"}], \"inputDateFormat\": \"DD/MM/YYYY\", \"outputDateFormat\": \"YYYY-MM-DD\", \"newColumn\": \"True\", \"newColumnName\": \"OrderDateNew701\"}]}], \"functionChanges\": [{\"columnName\": \"Order Date\", \"functionName\": \"transformDate\", \"Type\": \"String\", \"Parameters\": [{\"column\": [{\"columnName\": \"Order Date\", \"type\": \"String\", \"min\": \"1/2/2015\", \"max\": \"9/1/2015\", \"mean\": \"-\"}], \"inputDateFormat\": \"DD/MM/YYYY\", \"outputDateFormat\": \"YYYY-MM-DD\", \"newColumn\": \"True\", \"newColumnName\": \"OrderDateNew701\"}]}], \"fileheader\": [{\"field\": \"Order Date\", \"alias\": \"Order Date\", \"generated\": 0, \"position\": 1, \"type\": \"String\"}, {\"field\": \"Order DateNew\", \"alias\": \"Order DateNew\", \"generated\": 0, \"position\": 2, \"type\": \"date\"}, {\"field\": \"State\", \"alias\": \"State\", \"generated\": 0, \"position\": 3, \"type\": \"String\"}, {\"field\": \"Postal Code\", \"alias\": \"Postal Code\", \"generated\": 0, \"position\": 4, \"type\": \"numeric\"}, {\"field\": \"Region\", \"alias\": \"Region\", \"generated\": 0, \"position\": 5, \"type\": \"String\"}, {\"field\": \"Category\", \"alias\": \"Category\", \"generated\": 0, \"position\": 6, \"type\": \"String\"}, {\"field\": \"Sub-Category\", \"alias\": \"Sub-Category\", \"generated\": 0, \"position\": 7, \"type\": \"String\"}, {\"field\": \"Cost\", \"alias\": \"Cost\", \"generated\": 0, \"position\": 8, \"type\": \"real\"}, {\"field\": \"Price\", \"alias\": \"Price\", \"generated\": 0, \"position\": 9, \"type\": \"real\"}, {\"field\": \"Profit\", \"alias\": \"Profit\", \"generated\": 0, \"position\": 10, \"type\": \"real\"}, {\"field\": \"Quantity\", \"alias\": \"Quantity\", \"generated\": 0, \"position\": 11, \"type\": \"numeric\"}, {\"field\": \"Sales\", \"alias\": \"Sales\", \"generated\": 0, \"position\": 12, \"type\": \"real\"}, {\"field\": \"OrderDateNew701\", \"alias\": \"OrderDateNew701\", \"generated\": 1, \"position\": 13, \"type\": \"date\"}]}))\n",
    "\t#operationPostExecutionHook(datapreparation)\n",
    "\n",
    "except Exception as ex: \n",
    "\tlogging.error(ex)\n"
   ]
  },
  {
   "cell_type": "markdown",
   "id": "36bb139c",
   "metadata": {},
   "source": [
    "***WRITING DATAFRAME***"
   ]
  },
  {
   "cell_type": "code",
   "execution_count": null,
   "id": "e2603d0e",
   "metadata": {},
   "outputs": [],
   "source": [
    "#%run 701tsdpHooks.ipynb\n",
    "try:\n",
    "\t#sinkPreExecutionHook()\n",
    "\n",
    "\tdatapipelines = NumtraConnector.fetch(spark, \"{'samplefile': '/FileStore/platform/sampleData/659a2df92bc1b0f22e68d7da/part-00000-7d1ccf9d-5435-46c0-94da-64e70b23bf73-c000.csv', 'samplecount': 100, 'originalcount': 100, 'orignalKey': '/FileStore/platform/uploadedSourceFiles/OfficeMAX_Sales_DataTransfS2.csv', 'pathOnly': '/DataPipelines', 'project_id': '653649fa02108c303fddceda', 'parent_id': '653649fa02108c303fddceda', 'original_schema': [{'checked': True, 'inherited': True, 'is_categorical': False, 'bad_values': '', 'nullable': 'true', 'field': 'Order Date', 'alias': 'Order Date', 'type': 'date', 'position': '0'}, {'checked': True, 'inherited': True, 'is_categorical': False, 'bad_values': '', 'nullable': 'true', 'field': 'Order DateNew', 'alias': 'Order DateNew', 'type': 'numeric', 'position': '1'}, {'checked': True, 'inherited': True, 'is_categorical': False, 'bad_values': '', 'nullable': 'true', 'field': 'State', 'alias': 'State', 'type': 'String', 'position': '2'}, {'checked': True, 'inherited': True, 'is_categorical': False, 'bad_values': '', 'nullable': 'true', 'field': 'Postal Code', 'alias': 'Postal Code', 'type': 'numeric', 'position': '3'}, {'checked': True, 'inherited': True, 'is_categorical': False, 'bad_values': '', 'nullable': 'true', 'field': 'Region', 'alias': 'Region', 'type': 'String', 'position': '4'}, {'checked': True, 'inherited': True, 'is_categorical': False, 'bad_values': '', 'nullable': 'true', 'field': 'Category', 'alias': 'Category', 'type': 'String', 'position': '5'}, {'checked': True, 'inherited': True, 'is_categorical': False, 'bad_values': '', 'nullable': 'true', 'field': 'Sub-Category', 'alias': 'Sub-Category', 'type': 'String', 'position': '6'}, {'checked': True, 'inherited': True, 'is_categorical': False, 'bad_values': '', 'nullable': 'true', 'field': 'Cost', 'alias': 'Cost', 'type': 'real', 'position': '7'}, {'checked': True, 'inherited': True, 'is_categorical': False, 'bad_values': '', 'nullable': 'true', 'field': 'Price', 'alias': 'Price', 'type': 'real', 'position': '8'}, {'checked': True, 'inherited': True, 'is_categorical': False, 'bad_values': '', 'nullable': 'true', 'field': 'Profit', 'alias': 'Profit', 'type': 'real', 'position': '9'}, {'checked': True, 'inherited': True, 'is_categorical': False, 'bad_values': '', 'nullable': 'true', 'field': 'Quantity', 'alias': 'Quantity', 'type': 'numeric', 'position': '10'}, {'checked': True, 'inherited': True, 'is_categorical': False, 'bad_values': '', 'nullable': 'true', 'field': 'Sales', 'alias': 'Sales', 'type': 'real', 'position': '11'}, {'checked': True, 'inherited': True, 'is_categorical': False, 'bad_values': '', 'nullable': 'true', 'field': 'OrderDateNew701', 'alias': 'OrderDateNew701', 'type': 'date', 'position': '13'}], 'actual_schema': [{'checked': True, 'inherited': True, 'is_categorical': False, 'bad_values': '', 'nullable': 'true', 'field': 'Order Date', 'alias': 'Order Date', 'type': 'date', 'position': '0'}, {'checked': True, 'inherited': True, 'is_categorical': False, 'bad_values': '', 'nullable': 'true', 'field': 'Order DateNew', 'alias': 'Order DateNew', 'type': 'numeric', 'position': '1'}, {'checked': True, 'inherited': True, 'is_categorical': False, 'bad_values': '', 'nullable': 'true', 'field': 'State', 'alias': 'State', 'type': 'String', 'position': '2'}, {'checked': True, 'inherited': True, 'is_categorical': False, 'bad_values': '', 'nullable': 'true', 'field': 'Postal Code', 'alias': 'Postal Code', 'type': 'numeric', 'position': '3'}, {'checked': True, 'inherited': True, 'is_categorical': False, 'bad_values': '', 'nullable': 'true', 'field': 'Region', 'alias': 'Region', 'type': 'String', 'position': '4'}, {'checked': True, 'inherited': True, 'is_categorical': False, 'bad_values': '', 'nullable': 'true', 'field': 'Category', 'alias': 'Category', 'type': 'String', 'position': '5'}, {'checked': True, 'inherited': True, 'is_categorical': False, 'bad_values': '', 'nullable': 'true', 'field': 'Sub-Category', 'alias': 'Sub-Category', 'type': 'String', 'position': '6'}, {'checked': True, 'inherited': True, 'is_categorical': False, 'bad_values': '', 'nullable': 'true', 'field': 'Cost', 'alias': 'Cost', 'type': 'real', 'position': '7'}, {'checked': True, 'inherited': True, 'is_categorical': False, 'bad_values': '', 'nullable': 'true', 'field': 'Price', 'alias': 'Price', 'type': 'real', 'position': '8'}, {'checked': True, 'inherited': True, 'is_categorical': False, 'bad_values': '', 'nullable': 'true', 'field': 'Profit', 'alias': 'Profit', 'type': 'real', 'position': '9'}, {'checked': True, 'inherited': True, 'is_categorical': False, 'bad_values': '', 'nullable': 'true', 'field': 'Quantity', 'alias': 'Quantity', 'type': 'numeric', 'position': '10'}, {'checked': True, 'inherited': True, 'is_categorical': False, 'bad_values': '', 'nullable': 'true', 'field': 'Sales', 'alias': 'Sales', 'type': 'real', 'position': '11'}], 'server': 'https://ml.numtra.com:443', 'server_url': '/numtraPlatform/NumtraPlatformV3/uploads/platform/', 'delimiter': ',', 'file_type': 'Delimeted', 'filename': 'OfficeSalesMax701.csv', 'token': '', 'domain': '', 'is_header': 'Use Header Line', 'url': '/FileStore/platform/uploadedSourceFiles/part-00000-582ae327-cdbb-488e-b139-940dab39d490-c000.csv', 'results_url': 'http://ml.numtra.com:44040/api/read/hdfs'}\")\n",
    "\n",
    "except Exception as ex: \n",
    "\tlogging.error(ex)\n"
   ]
  }
 ],
 "metadata": {},
 "nbformat": 4,
 "nbformat_minor": 5
}
